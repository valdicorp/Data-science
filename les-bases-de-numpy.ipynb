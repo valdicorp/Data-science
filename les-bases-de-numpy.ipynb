{
 "cells": [
  {
   "cell_type": "markdown",
   "id": "d5e8a174",
   "metadata": {
    "papermill": {
     "duration": 0.010191,
     "end_time": "2024-05-23T07:58:50.066579",
     "exception": false,
     "start_time": "2024-05-23T07:58:50.056388",
     "status": "completed"
    },
    "tags": []
   },
   "source": [
    "# 1.\tImport du package : "
   ]
  },
  {
   "cell_type": "code",
   "execution_count": 1,
   "id": "c9660656",
   "metadata": {
    "execution": {
     "iopub.execute_input": "2024-05-23T07:58:50.087058Z",
     "iopub.status.busy": "2024-05-23T07:58:50.086553Z",
     "iopub.status.idle": "2024-05-23T07:58:50.102835Z",
     "shell.execute_reply": "2024-05-23T07:58:50.101471Z"
    },
    "papermill": {
     "duration": 0.030188,
     "end_time": "2024-05-23T07:58:50.105921",
     "exception": false,
     "start_time": "2024-05-23T07:58:50.075733",
     "status": "completed"
    },
    "tags": []
   },
   "outputs": [],
   "source": [
    "import numpy as np"
   ]
  },
  {
   "cell_type": "markdown",
   "id": "d2200f55",
   "metadata": {
    "papermill": {
     "duration": 0.008583,
     "end_time": "2024-05-23T07:58:50.123585",
     "exception": false,
     "start_time": "2024-05-23T07:58:50.115002",
     "status": "completed"
    },
    "tags": []
   },
   "source": [
    "# 2-Creer des donnees  "
   ]
  },
  {
   "cell_type": "markdown",
   "id": "1d20418e",
   "metadata": {
    "papermill": {
     "duration": 0.009113,
     "end_time": "2024-05-23T07:58:50.141572",
     "exception": false,
     "start_time": "2024-05-23T07:58:50.132459",
     "status": "completed"
    },
    "tags": []
   },
   "source": [
    "## 2.1-Creer un numpy array a partir d'une liste/d'une liste de liste(matrice)"
   ]
  },
  {
   "cell_type": "code",
   "execution_count": 2,
   "id": "458ed8a1",
   "metadata": {
    "execution": {
     "iopub.execute_input": "2024-05-23T07:58:50.163422Z",
     "iopub.status.busy": "2024-05-23T07:58:50.162110Z",
     "iopub.status.idle": "2024-05-23T07:58:50.170386Z",
     "shell.execute_reply": "2024-05-23T07:58:50.168984Z"
    },
    "papermill": {
     "duration": 0.02183,
     "end_time": "2024-05-23T07:58:50.173202",
     "exception": false,
     "start_time": "2024-05-23T07:58:50.151372",
     "status": "completed"
    },
    "tags": []
   },
   "outputs": [],
   "source": [
    "tab1=np.array([1,2,3,4,5,0,-5,-7,-8])\n",
    "tab2=np.array([[1,2],[2,3]])\n",
    "tab3=np.array([[[1,2],[3,4],],[[0,2],[0,5]],[[0,1],[2,9]]])"
   ]
  },
  {
   "cell_type": "code",
   "execution_count": 3,
   "id": "ec2f94fb",
   "metadata": {
    "execution": {
     "iopub.execute_input": "2024-05-23T07:58:50.193910Z",
     "iopub.status.busy": "2024-05-23T07:58:50.193374Z",
     "iopub.status.idle": "2024-05-23T07:58:50.204094Z",
     "shell.execute_reply": "2024-05-23T07:58:50.202779Z"
    },
    "papermill": {
     "duration": 0.024601,
     "end_time": "2024-05-23T07:58:50.206867",
     "exception": false,
     "start_time": "2024-05-23T07:58:50.182266",
     "status": "completed"
    },
    "tags": []
   },
   "outputs": [
    {
     "data": {
      "text/plain": [
       "array([[1, 2],\n",
       "       [2, 3]])"
      ]
     },
     "execution_count": 3,
     "metadata": {},
     "output_type": "execute_result"
    }
   ],
   "source": [
    "tab2"
   ]
  },
  {
   "cell_type": "markdown",
   "id": "f77775d2",
   "metadata": {
    "papermill": {
     "duration": 0.00893,
     "end_time": "2024-05-23T07:58:50.225069",
     "exception": false,
     "start_time": "2024-05-23T07:58:50.216139",
     "status": "completed"
    },
    "tags": []
   },
   "source": [
    "## 2.2 Creer un numpy array a partir des fonction predefinies"
   ]
  },
  {
   "cell_type": "code",
   "execution_count": 4,
   "id": "5ff27c64",
   "metadata": {
    "execution": {
     "iopub.execute_input": "2024-05-23T07:58:50.247858Z",
     "iopub.status.busy": "2024-05-23T07:58:50.247352Z",
     "iopub.status.idle": "2024-05-23T07:58:50.254131Z",
     "shell.execute_reply": "2024-05-23T07:58:50.252886Z"
    },
    "papermill": {
     "duration": 0.0226,
     "end_time": "2024-05-23T07:58:50.256928",
     "exception": false,
     "start_time": "2024-05-23T07:58:50.234328",
     "status": "completed"
    },
    "tags": []
   },
   "outputs": [],
   "source": [
    "zero=np.zeros((3,3)) # matrice de zero\n",
    "one=np.ones((3,3))     #matrice de un\n",
    "eye=np.eye(6)          # matrice identite"
   ]
  },
  {
   "cell_type": "code",
   "execution_count": 5,
   "id": "2258d756",
   "metadata": {
    "execution": {
     "iopub.execute_input": "2024-05-23T07:58:50.278279Z",
     "iopub.status.busy": "2024-05-23T07:58:50.277527Z",
     "iopub.status.idle": "2024-05-23T07:58:50.287495Z",
     "shell.execute_reply": "2024-05-23T07:58:50.286262Z"
    },
    "papermill": {
     "duration": 0.02401,
     "end_time": "2024-05-23T07:58:50.290477",
     "exception": false,
     "start_time": "2024-05-23T07:58:50.266467",
     "status": "completed"
    },
    "tags": []
   },
   "outputs": [
    {
     "data": {
      "text/plain": [
       "array([[1., 0., 0., 0., 0., 0.],\n",
       "       [0., 1., 0., 0., 0., 0.],\n",
       "       [0., 0., 1., 0., 0., 0.],\n",
       "       [0., 0., 0., 1., 0., 0.],\n",
       "       [0., 0., 0., 0., 1., 0.],\n",
       "       [0., 0., 0., 0., 0., 1.]])"
      ]
     },
     "execution_count": 5,
     "metadata": {},
     "output_type": "execute_result"
    }
   ],
   "source": [
    "eye"
   ]
  },
  {
   "cell_type": "code",
   "execution_count": 6,
   "id": "74cec70a",
   "metadata": {
    "execution": {
     "iopub.execute_input": "2024-05-23T07:58:50.312600Z",
     "iopub.status.busy": "2024-05-23T07:58:50.312050Z",
     "iopub.status.idle": "2024-05-23T07:58:50.320213Z",
     "shell.execute_reply": "2024-05-23T07:58:50.319141Z"
    },
    "papermill": {
     "duration": 0.022484,
     "end_time": "2024-05-23T07:58:50.322773",
     "exception": false,
     "start_time": "2024-05-23T07:58:50.300289",
     "status": "completed"
    },
    "tags": []
   },
   "outputs": [
    {
     "data": {
      "text/plain": [
       "array([ 1,  2,  3,  4,  5,  6,  7,  8,  9, 10])"
      ]
     },
     "execution_count": 6,
     "metadata": {},
     "output_type": "execute_result"
    }
   ],
   "source": [
    "# creer une liste avec np.arange(debut , fin -1, pas )\n",
    "array_arrange=np.arange(1,11,1)\n",
    "array_arrange"
   ]
  },
  {
   "cell_type": "code",
   "execution_count": 7,
   "id": "803cccea",
   "metadata": {
    "execution": {
     "iopub.execute_input": "2024-05-23T07:58:50.344396Z",
     "iopub.status.busy": "2024-05-23T07:58:50.343927Z",
     "iopub.status.idle": "2024-05-23T07:58:50.352598Z",
     "shell.execute_reply": "2024-05-23T07:58:50.351382Z"
    },
    "papermill": {
     "duration": 0.022779,
     "end_time": "2024-05-23T07:58:50.355374",
     "exception": false,
     "start_time": "2024-05-23T07:58:50.332595",
     "status": "completed"
    },
    "tags": []
   },
   "outputs": [
    {
     "data": {
      "text/plain": [
       "array([0. , 0.5, 1. , 1.5, 2. ])"
      ]
     },
     "execution_count": 7,
     "metadata": {},
     "output_type": "execute_result"
    }
   ],
   "source": [
    "# creer une liste avec np.linspace(debut , fin, nombre d'element)\n",
    "np.linspace(0,2,5) # tres utile pour les graphiques"
   ]
  },
  {
   "cell_type": "code",
   "execution_count": 8,
   "id": "1daba68e",
   "metadata": {
    "execution": {
     "iopub.execute_input": "2024-05-23T07:58:50.377780Z",
     "iopub.status.busy": "2024-05-23T07:58:50.377333Z",
     "iopub.status.idle": "2024-05-23T07:58:50.385988Z",
     "shell.execute_reply": "2024-05-23T07:58:50.384771Z"
    },
    "papermill": {
     "duration": 0.023138,
     "end_time": "2024-05-23T07:58:50.388495",
     "exception": false,
     "start_time": "2024-05-23T07:58:50.365357",
     "status": "completed"
    },
    "tags": []
   },
   "outputs": [
    {
     "data": {
      "text/plain": [
       "array([[0.68070562, 0.92902605],\n",
       "       [0.54320884, 0.03900335],\n",
       "       [0.42323783, 0.26066206],\n",
       "       [0.51762241, 0.73342722]])"
      ]
     },
     "execution_count": 8,
     "metadata": {},
     "output_type": "execute_result"
    }
   ],
   "source": [
    "# creer un numpy array de nombres aleatoires np.random.random(shape)\n",
    "np.random.random((4,2)) # utile pour initialiser les poids dans les reseaux de neurones"
   ]
  },
  {
   "cell_type": "markdown",
   "id": "834e88b1",
   "metadata": {
    "papermill": {
     "duration": 0.009855,
     "end_time": "2024-05-23T07:58:50.408500",
     "exception": false,
     "start_time": "2024-05-23T07:58:50.398645",
     "status": "completed"
    },
    "tags": []
   },
   "source": [
    "# 3-Fonctions mathematiques et statistiques avec numpy"
   ]
  },
  {
   "cell_type": "code",
   "execution_count": 9,
   "id": "592c729f",
   "metadata": {
    "execution": {
     "iopub.execute_input": "2024-05-23T07:58:50.431287Z",
     "iopub.status.busy": "2024-05-23T07:58:50.430367Z",
     "iopub.status.idle": "2024-05-23T07:58:50.448650Z",
     "shell.execute_reply": "2024-05-23T07:58:50.447081Z"
    },
    "papermill": {
     "duration": 0.033624,
     "end_time": "2024-05-23T07:58:50.452318",
     "exception": false,
     "start_time": "2024-05-23T07:58:50.418694",
     "status": "completed"
    },
    "tags": []
   },
   "outputs": [
    {
     "name": "stderr",
     "output_type": "stream",
     "text": [
      "/tmp/ipykernel_18/3042533463.py:7: RuntimeWarning: invalid value encountered in sqrt\n",
      "  tab_sqrt=np.sqrt(tab1)\n",
      "/tmp/ipykernel_18/3042533463.py:11: RuntimeWarning: divide by zero encountered in log\n",
      "  tab_log=np.log(tab1)\n",
      "/tmp/ipykernel_18/3042533463.py:11: RuntimeWarning: invalid value encountered in log\n",
      "  tab_log=np.log(tab1)\n"
     ]
    },
    {
     "data": {
      "text/plain": [
       "1.0"
      ]
     },
     "execution_count": 9,
     "metadata": {},
     "output_type": "execute_result"
    }
   ],
   "source": [
    "# fonctions mathematiques basiques\n",
    "tab_sum=np.sum(tab1)\n",
    "tab_mean=np.mean(tab1)\n",
    "tab_min=np.min(tab1)\n",
    "tab_max=np.max(tab1)\n",
    "tab_std=np.std(tab1)\n",
    "tab_sqrt=np.sqrt(tab1)\n",
    "tab_abs=np.abs(tab1)\n",
    "tab_power=np.power(tab1,3)\n",
    "tab_exp=np.exp(tab1)\n",
    "tab_log=np.log(tab1)\n",
    "tab_median=np.median(tab1)\n",
    "tab_median"
   ]
  },
  {
   "cell_type": "markdown",
   "id": "605ebef2",
   "metadata": {
    "papermill": {
     "duration": 0.010612,
     "end_time": "2024-05-23T07:58:50.473575",
     "exception": false,
     "start_time": "2024-05-23T07:58:50.462963",
     "status": "completed"
    },
    "tags": []
   },
   "source": [
    "# 4-manipulation des matrice avec numpy"
   ]
  },
  {
   "cell_type": "code",
   "execution_count": 10,
   "id": "d1b2f1bd",
   "metadata": {
    "execution": {
     "iopub.execute_input": "2024-05-23T07:58:50.497277Z",
     "iopub.status.busy": "2024-05-23T07:58:50.496611Z",
     "iopub.status.idle": "2024-05-23T07:58:50.506302Z",
     "shell.execute_reply": "2024-05-23T07:58:50.504914Z"
    },
    "papermill": {
     "duration": 0.02449,
     "end_time": "2024-05-23T07:58:50.508954",
     "exception": false,
     "start_time": "2024-05-23T07:58:50.484464",
     "status": "completed"
    },
    "tags": []
   },
   "outputs": [
    {
     "data": {
      "text/plain": [
       "array([[ 5,  4, 19],\n",
       "       [ 8,  6, 30]])"
      ]
     },
     "execution_count": 10,
     "metadata": {},
     "output_type": "execute_result"
    }
   ],
   "source": [
    "# Produit matriciel\n",
    "matrice=[[1,0,3],[2,2,8]]\n",
    "matrice_p= np.dot(tab2,matrice)\n",
    "matrice_p"
   ]
  },
  {
   "cell_type": "code",
   "execution_count": 11,
   "id": "807e0652",
   "metadata": {
    "execution": {
     "iopub.execute_input": "2024-05-23T07:58:50.533652Z",
     "iopub.status.busy": "2024-05-23T07:58:50.532126Z",
     "iopub.status.idle": "2024-05-23T07:58:50.540599Z",
     "shell.execute_reply": "2024-05-23T07:58:50.539404Z"
    },
    "papermill": {
     "duration": 0.023632,
     "end_time": "2024-05-23T07:58:50.543424",
     "exception": false,
     "start_time": "2024-05-23T07:58:50.519792",
     "status": "completed"
    },
    "tags": []
   },
   "outputs": [
    {
     "data": {
      "text/plain": [
       "array([[ 5,  8],\n",
       "       [ 4,  6],\n",
       "       [19, 30]])"
      ]
     },
     "execution_count": 11,
     "metadata": {},
     "output_type": "execute_result"
    }
   ],
   "source": [
    "# transpose\n",
    "np.transpose(matrice_p)"
   ]
  },
  {
   "cell_type": "code",
   "execution_count": 12,
   "id": "8afc87d1",
   "metadata": {
    "execution": {
     "iopub.execute_input": "2024-05-23T07:58:50.568531Z",
     "iopub.status.busy": "2024-05-23T07:58:50.567618Z",
     "iopub.status.idle": "2024-05-23T07:58:50.585010Z",
     "shell.execute_reply": "2024-05-23T07:58:50.583116Z"
    },
    "papermill": {
     "duration": 0.033705,
     "end_time": "2024-05-23T07:58:50.588252",
     "exception": false,
     "start_time": "2024-05-23T07:58:50.554547",
     "status": "completed"
    },
    "tags": []
   },
   "outputs": [
    {
     "data": {
      "text/plain": [
       "array([[-3.,  2.],\n",
       "       [ 2., -1.]])"
      ]
     },
     "execution_count": 12,
     "metadata": {},
     "output_type": "execute_result"
    }
   ],
   "source": [
    "# inverse matrice (pour les matrice carrees non singulieres)\n",
    "np.linalg.inv(tab2)"
   ]
  },
  {
   "cell_type": "code",
   "execution_count": 13,
   "id": "37e4f9f0",
   "metadata": {
    "execution": {
     "iopub.execute_input": "2024-05-23T07:58:50.614976Z",
     "iopub.status.busy": "2024-05-23T07:58:50.613536Z",
     "iopub.status.idle": "2024-05-23T07:58:50.625532Z",
     "shell.execute_reply": "2024-05-23T07:58:50.623847Z"
    },
    "papermill": {
     "duration": 0.0292,
     "end_time": "2024-05-23T07:58:50.628876",
     "exception": false,
     "start_time": "2024-05-23T07:58:50.599676",
     "status": "completed"
    },
    "tags": []
   },
   "outputs": [
    {
     "data": {
      "text/plain": [
       "1.0"
      ]
     },
     "execution_count": 13,
     "metadata": {},
     "output_type": "execute_result"
    }
   ],
   "source": [
    " # determinant\n",
    "np.linalg.det(eye)"
   ]
  },
  {
   "cell_type": "markdown",
   "id": "9bf8e074",
   "metadata": {
    "papermill": {
     "duration": 0.011456,
     "end_time": "2024-05-23T07:58:50.653096",
     "exception": false,
     "start_time": "2024-05-23T07:58:50.641640",
     "status": "completed"
    },
    "tags": []
   },
   "source": [
    "# 5- Acceder aux elements,modifier,selectionner et mettre a jour un numpy array "
   ]
  },
  {
   "cell_type": "code",
   "execution_count": 14,
   "id": "8760ae88",
   "metadata": {
    "execution": {
     "iopub.execute_input": "2024-05-23T07:58:50.680741Z",
     "iopub.status.busy": "2024-05-23T07:58:50.679320Z",
     "iopub.status.idle": "2024-05-23T07:58:50.690574Z",
     "shell.execute_reply": "2024-05-23T07:58:50.689172Z"
    },
    "papermill": {
     "duration": 0.032012,
     "end_time": "2024-05-23T07:58:50.696897",
     "exception": false,
     "start_time": "2024-05-23T07:58:50.664885",
     "status": "completed"
    },
    "tags": []
   },
   "outputs": [
    {
     "data": {
      "text/plain": [
       "3"
      ]
     },
     "execution_count": 14,
     "metadata": {},
     "output_type": "execute_result"
    }
   ],
   "source": [
    "# acceder\n",
    "tab1[2]"
   ]
  },
  {
   "cell_type": "code",
   "execution_count": 15,
   "id": "e97befc8",
   "metadata": {
    "execution": {
     "iopub.execute_input": "2024-05-23T07:58:50.722111Z",
     "iopub.status.busy": "2024-05-23T07:58:50.721651Z",
     "iopub.status.idle": "2024-05-23T07:58:50.730113Z",
     "shell.execute_reply": "2024-05-23T07:58:50.728823Z"
    },
    "papermill": {
     "duration": 0.024214,
     "end_time": "2024-05-23T07:58:50.732750",
     "exception": false,
     "start_time": "2024-05-23T07:58:50.708536",
     "status": "completed"
    },
    "tags": []
   },
   "outputs": [
    {
     "data": {
      "text/plain": [
       "7"
      ]
     },
     "execution_count": 15,
     "metadata": {},
     "output_type": "execute_result"
    }
   ],
   "source": [
    "tab1[2]=7\n",
    "tab1[2]"
   ]
  },
  {
   "cell_type": "code",
   "execution_count": 16,
   "id": "d5845879",
   "metadata": {
    "execution": {
     "iopub.execute_input": "2024-05-23T07:58:50.758770Z",
     "iopub.status.busy": "2024-05-23T07:58:50.758275Z",
     "iopub.status.idle": "2024-05-23T07:58:50.766401Z",
     "shell.execute_reply": "2024-05-23T07:58:50.765170Z"
    },
    "papermill": {
     "duration": 0.024295,
     "end_time": "2024-05-23T07:58:50.769060",
     "exception": false,
     "start_time": "2024-05-23T07:58:50.744765",
     "status": "completed"
    },
    "tags": []
   },
   "outputs": [
    {
     "data": {
      "text/plain": [
       "array([7, 4, 5])"
      ]
     },
     "execution_count": 16,
     "metadata": {},
     "output_type": "execute_result"
    }
   ],
   "source": [
    "# selectionner un element qui respecte une condition\n",
    "tab1[tab1>2]"
   ]
  },
  {
   "cell_type": "code",
   "execution_count": 17,
   "id": "fa904244",
   "metadata": {
    "execution": {
     "iopub.execute_input": "2024-05-23T07:58:50.795420Z",
     "iopub.status.busy": "2024-05-23T07:58:50.794961Z",
     "iopub.status.idle": "2024-05-23T07:58:50.802899Z",
     "shell.execute_reply": "2024-05-23T07:58:50.801673Z"
    },
    "papermill": {
     "duration": 0.024223,
     "end_time": "2024-05-23T07:58:50.805440",
     "exception": false,
     "start_time": "2024-05-23T07:58:50.781217",
     "status": "completed"
    },
    "tags": []
   },
   "outputs": [
    {
     "data": {
      "text/plain": [
       "(array([2, 3, 4]),)"
      ]
     },
     "execution_count": 17,
     "metadata": {},
     "output_type": "execute_result"
    }
   ],
   "source": [
    "#indice des elements respectant la condition \n",
    "np.where(tab1>2)"
   ]
  },
  {
   "cell_type": "code",
   "execution_count": 18,
   "id": "38583f33",
   "metadata": {
    "execution": {
     "iopub.execute_input": "2024-05-23T07:58:50.832648Z",
     "iopub.status.busy": "2024-05-23T07:58:50.832161Z",
     "iopub.status.idle": "2024-05-23T07:58:50.840674Z",
     "shell.execute_reply": "2024-05-23T07:58:50.839432Z"
    },
    "papermill": {
     "duration": 0.02527,
     "end_time": "2024-05-23T07:58:50.843304",
     "exception": false,
     "start_time": "2024-05-23T07:58:50.818034",
     "status": "completed"
    },
    "tags": []
   },
   "outputs": [
    {
     "data": {
      "text/plain": [
       "array([1, 2])"
      ]
     },
     "execution_count": 18,
     "metadata": {},
     "output_type": "execute_result"
    }
   ],
   "source": [
    "# slicing et indexation avancee\n",
    "#slicing\n",
    "tab2[0,:]"
   ]
  },
  {
   "cell_type": "code",
   "execution_count": 19,
   "id": "aa0df5eb",
   "metadata": {
    "execution": {
     "iopub.execute_input": "2024-05-23T07:58:50.870565Z",
     "iopub.status.busy": "2024-05-23T07:58:50.870120Z",
     "iopub.status.idle": "2024-05-23T07:58:50.878679Z",
     "shell.execute_reply": "2024-05-23T07:58:50.877220Z"
    },
    "papermill": {
     "duration": 0.026214,
     "end_time": "2024-05-23T07:58:50.882281",
     "exception": false,
     "start_time": "2024-05-23T07:58:50.856067",
     "status": "completed"
    },
    "tags": []
   },
   "outputs": [
    {
     "data": {
      "text/plain": [
       "array([1, 2])"
      ]
     },
     "execution_count": 19,
     "metadata": {},
     "output_type": "execute_result"
    }
   ],
   "source": [
    "tab2[:,0]"
   ]
  },
  {
   "cell_type": "code",
   "execution_count": 20,
   "id": "55454f1d",
   "metadata": {
    "execution": {
     "iopub.execute_input": "2024-05-23T07:58:50.912095Z",
     "iopub.status.busy": "2024-05-23T07:58:50.910884Z",
     "iopub.status.idle": "2024-05-23T07:58:50.919207Z",
     "shell.execute_reply": "2024-05-23T07:58:50.918071Z"
    },
    "papermill": {
     "duration": 0.02617,
     "end_time": "2024-05-23T07:58:50.922075",
     "exception": false,
     "start_time": "2024-05-23T07:58:50.895905",
     "status": "completed"
    },
    "tags": []
   },
   "outputs": [
    {
     "data": {
      "text/plain": [
       "array([2, 3, 2])"
      ]
     },
     "execution_count": 20,
     "metadata": {},
     "output_type": "execute_result"
    }
   ],
   "source": [
    "#indexation avancee\n",
    "tab2[[0,1,1],[1,1,0]]"
   ]
  },
  {
   "cell_type": "code",
   "execution_count": 21,
   "id": "260b0177",
   "metadata": {
    "execution": {
     "iopub.execute_input": "2024-05-23T07:58:50.951097Z",
     "iopub.status.busy": "2024-05-23T07:58:50.950576Z",
     "iopub.status.idle": "2024-05-23T07:58:50.959553Z",
     "shell.execute_reply": "2024-05-23T07:58:50.958317Z"
    },
    "papermill": {
     "duration": 0.026294,
     "end_time": "2024-05-23T07:58:50.962219",
     "exception": false,
     "start_time": "2024-05-23T07:58:50.935925",
     "status": "completed"
    },
    "tags": []
   },
   "outputs": [
    {
     "data": {
      "text/plain": [
       "array([5, 7, 6])"
      ]
     },
     "execution_count": 21,
     "metadata": {},
     "output_type": "execute_result"
    }
   ],
   "source": [
    "# addition\n",
    "ar1=np.array([1,2,3])\n",
    "ar2=np.array([4,5,3])\n",
    "ar1+ar2"
   ]
  },
  {
   "cell_type": "code",
   "execution_count": 22,
   "id": "97f9572f",
   "metadata": {
    "execution": {
     "iopub.execute_input": "2024-05-23T07:58:50.991579Z",
     "iopub.status.busy": "2024-05-23T07:58:50.991124Z",
     "iopub.status.idle": "2024-05-23T07:58:50.999082Z",
     "shell.execute_reply": "2024-05-23T07:58:50.997743Z"
    },
    "papermill": {
     "duration": 0.02591,
     "end_time": "2024-05-23T07:58:51.002120",
     "exception": false,
     "start_time": "2024-05-23T07:58:50.976210",
     "status": "completed"
    },
    "tags": []
   },
   "outputs": [
    {
     "data": {
      "text/plain": [
       "array([ 4, 10,  9])"
      ]
     },
     "execution_count": 22,
     "metadata": {},
     "output_type": "execute_result"
    }
   ],
   "source": [
    "# multiplication\n",
    "ar1*ar2"
   ]
  },
  {
   "cell_type": "code",
   "execution_count": 23,
   "id": "4025f2cb",
   "metadata": {
    "execution": {
     "iopub.execute_input": "2024-05-23T07:58:51.032059Z",
     "iopub.status.busy": "2024-05-23T07:58:51.031558Z",
     "iopub.status.idle": "2024-05-23T07:58:51.040990Z",
     "shell.execute_reply": "2024-05-23T07:58:51.039803Z"
    },
    "papermill": {
     "duration": 0.02775,
     "end_time": "2024-05-23T07:58:51.043767",
     "exception": false,
     "start_time": "2024-05-23T07:58:51.016017",
     "status": "completed"
    },
    "tags": []
   },
   "outputs": [
    {
     "data": {
      "text/plain": [
       "array([[2, 3, 4],\n",
       "       [5, 3, 8]])"
      ]
     },
     "execution_count": 23,
     "metadata": {},
     "output_type": "execute_result"
    }
   ],
   "source": [
    "ar3=np.array([[1,2,3],[4,2,7]])\n",
    "ar3+np.array([1,1,1])"
   ]
  },
  {
   "cell_type": "code",
   "execution_count": 24,
   "id": "91f67cba",
   "metadata": {
    "execution": {
     "iopub.execute_input": "2024-05-23T07:58:51.075024Z",
     "iopub.status.busy": "2024-05-23T07:58:51.073775Z",
     "iopub.status.idle": "2024-05-23T07:58:51.082869Z",
     "shell.execute_reply": "2024-05-23T07:58:51.081598Z"
    },
    "papermill": {
     "duration": 0.027796,
     "end_time": "2024-05-23T07:58:51.085730",
     "exception": false,
     "start_time": "2024-05-23T07:58:51.057934",
     "status": "completed"
    },
    "tags": []
   },
   "outputs": [
    {
     "data": {
      "text/plain": [
       "array([[0, 1, 2],\n",
       "       [3, 4, 5],\n",
       "       [6, 7, 8]])"
      ]
     },
     "execution_count": 24,
     "metadata": {},
     "output_type": "execute_result"
    }
   ],
   "source": [
    "ar4=np.arange(9)\n",
    "ar4\n",
    "ar4.reshape((3,3))"
   ]
  },
  {
   "cell_type": "code",
   "execution_count": 25,
   "id": "f27e84e1",
   "metadata": {
    "execution": {
     "iopub.execute_input": "2024-05-23T07:58:51.116672Z",
     "iopub.status.busy": "2024-05-23T07:58:51.116199Z",
     "iopub.status.idle": "2024-05-23T07:58:51.125234Z",
     "shell.execute_reply": "2024-05-23T07:58:51.123917Z"
    },
    "papermill": {
     "duration": 0.02823,
     "end_time": "2024-05-23T07:58:51.128147",
     "exception": false,
     "start_time": "2024-05-23T07:58:51.099917",
     "status": "completed"
    },
    "tags": []
   },
   "outputs": [
    {
     "data": {
      "text/plain": [
       "array([ 1,  2,  7,  4,  5,  0, -5, -7, -8,  0,  6,  9])"
      ]
     },
     "execution_count": 25,
     "metadata": {},
     "output_type": "execute_result"
    }
   ],
   "source": [
    "#ajouter un element dans une matrice\n",
    "np.append(tab1,[0,6,9])"
   ]
  },
  {
   "cell_type": "code",
   "execution_count": 26,
   "id": "3b49fc29",
   "metadata": {
    "execution": {
     "iopub.execute_input": "2024-05-23T07:58:51.159092Z",
     "iopub.status.busy": "2024-05-23T07:58:51.158626Z",
     "iopub.status.idle": "2024-05-23T07:58:51.166575Z",
     "shell.execute_reply": "2024-05-23T07:58:51.165317Z"
    },
    "papermill": {
     "duration": 0.026489,
     "end_time": "2024-05-23T07:58:51.169129",
     "exception": false,
     "start_time": "2024-05-23T07:58:51.142640",
     "status": "completed"
    },
    "tags": []
   },
   "outputs": [
    {
     "data": {
      "text/plain": [
       "dtype('int64')"
      ]
     },
     "execution_count": 26,
     "metadata": {},
     "output_type": "execute_result"
    }
   ],
   "source": [
    "#connaitre le type d'un objet \n",
    "ar3.dtype"
   ]
  },
  {
   "cell_type": "code",
   "execution_count": null,
   "id": "b159b3cf",
   "metadata": {
    "papermill": {
     "duration": 0.014073,
     "end_time": "2024-05-23T07:58:51.197546",
     "exception": false,
     "start_time": "2024-05-23T07:58:51.183473",
     "status": "completed"
    },
    "tags": []
   },
   "outputs": [],
   "source": []
  }
 ],
 "metadata": {
  "kaggle": {
   "accelerator": "none",
   "dataSources": [],
   "isGpuEnabled": false,
   "isInternetEnabled": false,
   "language": "python",
   "sourceType": "notebook"
  },
  "kernelspec": {
   "display_name": "Python 3 (ipykernel)",
   "language": "python",
   "name": "python3"
  },
  "language_info": {
   "codemirror_mode": {
    "name": "ipython",
    "version": 3
   },
   "file_extension": ".py",
   "mimetype": "text/x-python",
   "name": "python",
   "nbconvert_exporter": "python",
   "pygments_lexer": "ipython3",
   "version": "3.10.13"
  },
  "papermill": {
   "default_parameters": {},
   "duration": 5.157949,
   "end_time": "2024-05-23T07:58:51.734875",
   "environment_variables": {},
   "exception": null,
   "input_path": "__notebook__.ipynb",
   "output_path": "__notebook__.ipynb",
   "parameters": {},
   "start_time": "2024-05-23T07:58:46.576926",
   "version": "2.5.0"
  }
 },
 "nbformat": 4,
 "nbformat_minor": 5
}
