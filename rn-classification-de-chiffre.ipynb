{
 "cells": [
  {
   "cell_type": "code",
   "execution_count": 1,
   "id": "21882e13",
   "metadata": {
    "execution": {
     "iopub.execute_input": "2024-08-11T11:33:31.521436Z",
     "iopub.status.busy": "2024-08-11T11:33:31.521006Z",
     "iopub.status.idle": "2024-08-11T11:33:48.643762Z",
     "shell.execute_reply": "2024-08-11T11:33:48.642324Z"
    },
    "papermill": {
     "duration": 17.138174,
     "end_time": "2024-08-11T11:33:48.647139",
     "exception": false,
     "start_time": "2024-08-11T11:33:31.508965",
     "status": "completed"
    },
    "tags": []
   },
   "outputs": [
    {
     "name": "stderr",
     "output_type": "stream",
     "text": [
      "2024-08-11 11:33:33.939100: E external/local_xla/xla/stream_executor/cuda/cuda_dnn.cc:9261] Unable to register cuDNN factory: Attempting to register factory for plugin cuDNN when one has already been registered\n",
      "2024-08-11 11:33:33.939307: E external/local_xla/xla/stream_executor/cuda/cuda_fft.cc:607] Unable to register cuFFT factory: Attempting to register factory for plugin cuFFT when one has already been registered\n",
      "2024-08-11 11:33:34.121811: E external/local_xla/xla/stream_executor/cuda/cuda_blas.cc:1515] Unable to register cuBLAS factory: Attempting to register factory for plugin cuBLAS when one has already been registered\n"
     ]
    }
   ],
   "source": [
    "# import\n",
    "import numpy as np\n",
    "import tensorflow as tf\n",
    "from tensorflow.keras.datasets import mnist\n",
    "from sklearn.metrics import accuracy_score\n",
    "from tensorflow.keras import models, layers"
   ]
  },
  {
   "cell_type": "markdown",
   "id": "2ee65f20",
   "metadata": {
    "papermill": {
     "duration": 0.00843,
     "end_time": "2024-08-11T11:33:48.664996",
     "exception": false,
     "start_time": "2024-08-11T11:33:48.656566",
     "status": "completed"
    },
    "tags": []
   },
   "source": [
    "# 1-Import des donnees"
   ]
  },
  {
   "cell_type": "code",
   "execution_count": 2,
   "id": "1d3c7fa1",
   "metadata": {
    "execution": {
     "iopub.execute_input": "2024-08-11T11:33:48.685412Z",
     "iopub.status.busy": "2024-08-11T11:33:48.684294Z",
     "iopub.status.idle": "2024-08-11T11:33:49.188036Z",
     "shell.execute_reply": "2024-08-11T11:33:49.186668Z"
    },
    "papermill": {
     "duration": 0.517545,
     "end_time": "2024-08-11T11:33:49.191381",
     "exception": false,
     "start_time": "2024-08-11T11:33:48.673836",
     "status": "completed"
    },
    "tags": []
   },
   "outputs": [
    {
     "name": "stdout",
     "output_type": "stream",
     "text": [
      "Downloading data from https://storage.googleapis.com/tensorflow/tf-keras-datasets/mnist.npz\n",
      "\u001b[1m11490434/11490434\u001b[0m \u001b[32m━━━━━━━━━━━━━━━━━━━━\u001b[0m\u001b[37m\u001b[0m \u001b[1m0s\u001b[0m 0us/step\n"
     ]
    }
   ],
   "source": [
    "# importer la base de donnees MNIST\n",
    "(x_train,y_train),(x_test,y_test)=mnist.load_data()\n",
    "# lien vers les dataset keras\n",
    "#https://keras.io/api/datasets/"
   ]
  },
  {
   "cell_type": "code",
   "execution_count": 3,
   "id": "1e7b89e6",
   "metadata": {
    "execution": {
     "iopub.execute_input": "2024-08-11T11:33:49.213032Z",
     "iopub.status.busy": "2024-08-11T11:33:49.211770Z",
     "iopub.status.idle": "2024-08-11T11:33:49.222090Z",
     "shell.execute_reply": "2024-08-11T11:33:49.220751Z"
    },
    "papermill": {
     "duration": 0.023955,
     "end_time": "2024-08-11T11:33:49.224593",
     "exception": false,
     "start_time": "2024-08-11T11:33:49.200638",
     "status": "completed"
    },
    "tags": []
   },
   "outputs": [
    {
     "data": {
      "text/plain": [
       "(60000, 28, 28)"
      ]
     },
     "execution_count": 3,
     "metadata": {},
     "output_type": "execute_result"
    }
   ],
   "source": [
    "x_train.shape"
   ]
  },
  {
   "cell_type": "code",
   "execution_count": 4,
   "id": "bd719d29",
   "metadata": {
    "execution": {
     "iopub.execute_input": "2024-08-11T11:33:49.245544Z",
     "iopub.status.busy": "2024-08-11T11:33:49.245125Z",
     "iopub.status.idle": "2024-08-11T11:33:49.880395Z",
     "shell.execute_reply": "2024-08-11T11:33:49.878582Z"
    },
    "papermill": {
     "duration": 0.650939,
     "end_time": "2024-08-11T11:33:49.885128",
     "exception": false,
     "start_time": "2024-08-11T11:33:49.234189",
     "status": "completed"
    },
    "tags": []
   },
   "outputs": [
    {
     "data": {
      "image/png": "[encoded data removed]",
      "text/plain": [
       "<Figure size 1000x100 with 10 Axes>"
      ]
     },
     "metadata": {},
     "output_type": "display_data"
    }
   ],
   "source": [
    "import matplotlib.pyplot as plt\n",
    "# visualiser les donnees\n",
    "plt.figure(figsize=(10,1))\n",
    "\n",
    "for i in range(10):\n",
    "    plt.subplot(1,10,i+1)\n",
    "    plt.imshow(x_train[i],cmap='gray')\n",
    "    plt.axis('off')\n",
    "plt.show()    "
   ]
  },
  {
   "cell_type": "markdown",
   "id": "b149bcc3",
   "metadata": {
    "papermill": {
     "duration": 0.011222,
     "end_time": "2024-08-11T11:33:49.916116",
     "exception": false,
     "start_time": "2024-08-11T11:33:49.904894",
     "status": "completed"
    },
    "tags": []
   },
   "source": [
    "# 2-Pretraitement des donnees"
   ]
  },
  {
   "cell_type": "code",
   "execution_count": 5,
   "id": "abe5ad15",
   "metadata": {
    "execution": {
     "iopub.execute_input": "2024-08-11T11:33:49.937592Z",
     "iopub.status.busy": "2024-08-11T11:33:49.937106Z",
     "iopub.status.idle": "2024-08-11T11:33:49.943399Z",
     "shell.execute_reply": "2024-08-11T11:33:49.941980Z"
    },
    "papermill": {
     "duration": 0.019959,
     "end_time": "2024-08-11T11:33:49.945969",
     "exception": false,
     "start_time": "2024-08-11T11:33:49.926010",
     "status": "completed"
    },
    "tags": []
   },
   "outputs": [],
   "source": [
    "#Normaliser les donnees\n",
    "def Normalisation(x):\n",
    "    return x/255.0"
   ]
  },
  {
   "cell_type": "code",
   "execution_count": 6,
   "id": "0ccf58e3",
   "metadata": {
    "execution": {
     "iopub.execute_input": "2024-08-11T11:33:49.967476Z",
     "iopub.status.busy": "2024-08-11T11:33:49.966951Z",
     "iopub.status.idle": "2024-08-11T11:33:49.981727Z",
     "shell.execute_reply": "2024-08-11T11:33:49.980192Z"
    },
    "papermill": {
     "duration": 0.029035,
     "end_time": "2024-08-11T11:33:49.984746",
     "exception": false,
     "start_time": "2024-08-11T11:33:49.955711",
     "status": "completed"
    },
    "tags": []
   },
   "outputs": [
    {
     "data": {
      "text/plain": [
       "255"
      ]
     },
     "execution_count": 6,
     "metadata": {},
     "output_type": "execute_result"
    }
   ],
   "source": [
    "x_train.max()"
   ]
  },
  {
   "cell_type": "code",
   "execution_count": 7,
   "id": "6e41ce5d",
   "metadata": {
    "execution": {
     "iopub.execute_input": "2024-08-11T11:33:50.008414Z",
     "iopub.status.busy": "2024-08-11T11:33:50.007896Z",
     "iopub.status.idle": "2024-08-11T11:33:50.205293Z",
     "shell.execute_reply": "2024-08-11T11:33:50.203788Z"
    },
    "papermill": {
     "duration": 0.21362,
     "end_time": "2024-08-11T11:33:50.208630",
     "exception": false,
     "start_time": "2024-08-11T11:33:49.995010",
     "status": "completed"
    },
    "tags": []
   },
   "outputs": [],
   "source": [
    "x_train=Normalisation(x_train)\n",
    "x_test=Normalisation(x_test)"
   ]
  },
  {
   "cell_type": "code",
   "execution_count": 8,
   "id": "04b9a63d",
   "metadata": {
    "execution": {
     "iopub.execute_input": "2024-08-11T11:33:50.231496Z",
     "iopub.status.busy": "2024-08-11T11:33:50.230606Z",
     "iopub.status.idle": "2024-08-11T11:33:50.276750Z",
     "shell.execute_reply": "2024-08-11T11:33:50.275324Z"
    },
    "papermill": {
     "duration": 0.060632,
     "end_time": "2024-08-11T11:33:50.279591",
     "exception": false,
     "start_time": "2024-08-11T11:33:50.218959",
     "status": "completed"
    },
    "tags": []
   },
   "outputs": [
    {
     "data": {
      "text/plain": [
       "1.0"
      ]
     },
     "execution_count": 8,
     "metadata": {},
     "output_type": "execute_result"
    }
   ],
   "source": [
    "x_train.max()"
   ]
  },
  {
   "cell_type": "code",
   "execution_count": 9,
   "id": "af776a9e",
   "metadata": {
    "execution": {
     "iopub.execute_input": "2024-08-11T11:33:50.304026Z",
     "iopub.status.busy": "2024-08-11T11:33:50.303607Z",
     "iopub.status.idle": "2024-08-11T11:33:50.317316Z",
     "shell.execute_reply": "2024-08-11T11:33:50.316133Z"
    },
    "papermill": {
     "duration": 0.029346,
     "end_time": "2024-08-11T11:33:50.320461",
     "exception": false,
     "start_time": "2024-08-11T11:33:50.291115",
     "status": "completed"
    },
    "tags": []
   },
   "outputs": [],
   "source": [
    "# tranformer les etiquettes en vecteurs binaires\n",
    "from tensorflow.keras.utils import to_categorical\n",
    "y_train=to_categorical(y_train)\n",
    "y_test=to_categorical(y_test)"
   ]
  },
  {
   "cell_type": "code",
   "execution_count": 10,
   "id": "7046cce3",
   "metadata": {
    "execution": {
     "iopub.execute_input": "2024-08-11T11:33:50.345622Z",
     "iopub.status.busy": "2024-08-11T11:33:50.344769Z",
     "iopub.status.idle": "2024-08-11T11:33:50.353478Z",
     "shell.execute_reply": "2024-08-11T11:33:50.352085Z"
    },
    "papermill": {
     "duration": 0.025231,
     "end_time": "2024-08-11T11:33:50.356039",
     "exception": false,
     "start_time": "2024-08-11T11:33:50.330808",
     "status": "completed"
    },
    "tags": []
   },
   "outputs": [
    {
     "data": {
      "text/plain": [
       "array([[0., 0., 0., ..., 0., 0., 0.],\n",
       "       [1., 0., 0., ..., 0., 0., 0.],\n",
       "       [0., 0., 0., ..., 0., 0., 0.],\n",
       "       ...,\n",
       "       [0., 0., 0., ..., 0., 0., 0.],\n",
       "       [0., 0., 0., ..., 0., 0., 0.],\n",
       "       [0., 0., 0., ..., 0., 1., 0.]])"
      ]
     },
     "execution_count": 10,
     "metadata": {},
     "output_type": "execute_result"
    }
   ],
   "source": [
    "y_train"
   ]
  },
  {
   "cell_type": "markdown",
   "id": "387dd90f",
   "metadata": {
    "papermill": {
     "duration": 0.01007,
     "end_time": "2024-08-11T11:33:50.376478",
     "exception": false,
     "start_time": "2024-08-11T11:33:50.366408",
     "status": "completed"
    },
    "tags": []
   },
   "source": [
    "# 3-Modelisation"
   ]
  },
  {
   "cell_type": "code",
   "execution_count": 11,
   "id": "cef2aad1",
   "metadata": {
    "execution": {
     "iopub.execute_input": "2024-08-11T11:33:50.400387Z",
     "iopub.status.busy": "2024-08-11T11:33:50.399082Z",
     "iopub.status.idle": "2024-08-11T11:33:50.509034Z",
     "shell.execute_reply": "2024-08-11T11:33:50.507398Z"
    },
    "papermill": {
     "duration": 0.124903,
     "end_time": "2024-08-11T11:33:50.512093",
     "exception": false,
     "start_time": "2024-08-11T11:33:50.387190",
     "status": "completed"
    },
    "tags": []
   },
   "outputs": [
    {
     "name": "stderr",
     "output_type": "stream",
     "text": [
      "/opt/conda/lib/python3.10/site-packages/keras/src/layers/reshaping/flatten.py:37: UserWarning: Do not pass an `input_shape`/`input_dim` argument to a layer. When using Sequential models, prefer using an `Input(shape)` object as the first layer in the model instead.\n",
      "  super().__init__(**kwargs)\n"
     ]
    }
   ],
   "source": [
    "# construction du modele de RN\n",
    "model=models.Sequential()\n",
    "\n",
    "# Ajouter des couches\n",
    "model.add(layers.Flatten(input_shape=(28,28)))# couche d'entree # applatir l'image passer de 28x28 a 748\n",
    "model.add(layers.Dense(100,activation='relu'))# Premiere couche cachee avec 100 neurones\n",
    "model.add(layers.Dense(50,activation='relu'))# Deuxieme couche cachee\n",
    "model.add(layers.Dense(10,activation='softmax'))# couche de sortie avec la 10 neurones pour les 10 categories\n",
    "                                                # et une fonction softmax car la classification n'est pas binaire"
   ]
  },
  {
   "cell_type": "code",
   "execution_count": 12,
   "id": "27104729",
   "metadata": {
    "execution": {
     "iopub.execute_input": "2024-08-11T11:33:50.535998Z",
     "iopub.status.busy": "2024-08-11T11:33:50.535551Z",
     "iopub.status.idle": "2024-08-11T11:33:50.563400Z",
     "shell.execute_reply": "2024-08-11T11:33:50.561923Z"
    },
    "papermill": {
     "duration": 0.043747,
     "end_time": "2024-08-11T11:33:50.566488",
     "exception": false,
     "start_time": "2024-08-11T11:33:50.522741",
     "status": "completed"
    },
    "tags": []
   },
   "outputs": [
    {
     "data": {
      "text/html": [
       "<pre style=\"white-space:pre;overflow-x:auto;line-height:normal;font-family:Menlo,'DejaVu Sans Mono',consolas,'Courier New',monospace\"><span style=\"font-weight: bold\">Model: \"sequential\"</span>\n",
       "</pre>\n"
      ],
      "text/plain": [
       "\u001b[1mModel: \"sequential\"\u001b[0m\n"
      ]
     },
     "metadata": {},
     "output_type": "display_data"
    },
    {
     "data": {
      "text/html": [
       "<pre style=\"white-space:pre;overflow-x:auto;line-height:normal;font-family:Menlo,'DejaVu Sans Mono',consolas,'Courier New',monospace\">┏━━━━━━━━━━━━━━━━━━━━━━━━━━━━━━━━━┳━━━━━━━━━━━━━━━━━━━━━━━━┳━━━━━━━━━━━━━━━┓\n",
       "┃<span style=\"font-weight: bold\"> Layer (type)                    </span>┃<span style=\"font-weight: bold\"> Output Shape           </span>┃<span style=\"font-weight: bold\">       Param # </span>┃\n",
       "┡━━━━━━━━━━━━━━━━━━━━━━━━━━━━━━━━━╇━━━━━━━━━━━━━━━━━━━━━━━━╇━━━━━━━━━━━━━━━┩\n",
       "│ flatten (<span style=\"color: #0087ff; text-decoration-color: #0087ff\">Flatten</span>)               │ (<span style=\"color: #00d7ff; text-decoration-color: #00d7ff\">None</span>, <span style=\"color: #00af00; text-decoration-color: #00af00\">784</span>)            │             <span style=\"color: #00af00; text-decoration-color: #00af00\">0</span> │\n",
       "├─────────────────────────────────┼────────────────────────┼───────────────┤\n",
       "│ dense (<span style=\"color: #0087ff; text-decoration-color: #0087ff\">Dense</span>)                   │ (<span style=\"color: #00d7ff; text-decoration-color: #00d7ff\">None</span>, <span style=\"color: #00af00; text-decoration-color: #00af00\">100</span>)            │        <span style=\"color: #00af00; text-decoration-color: #00af00\">78,500</span> │\n",
       "├─────────────────────────────────┼────────────────────────┼───────────────┤\n",
       "│ dense_1 (<span style=\"color: #0087ff; text-decoration-color: #0087ff\">Dense</span>)                 │ (<span style=\"color: #00d7ff; text-decoration-color: #00d7ff\">None</span>, <span style=\"color: #00af00; text-decoration-color: #00af00\">50</span>)             │         <span style=\"color: #00af00; text-decoration-color: #00af00\">5,050</span> │\n",
       "├─────────────────────────────────┼────────────────────────┼───────────────┤\n",
       "│ dense_2 (<span style=\"color: #0087ff; text-decoration-color: #0087ff\">Dense</span>)                 │ (<span style=\"color: #00d7ff; text-decoration-color: #00d7ff\">None</span>, <span style=\"color: #00af00; text-decoration-color: #00af00\">10</span>)             │           <span style=\"color: #00af00; text-decoration-color: #00af00\">510</span> │\n",
       "└─────────────────────────────────┴────────────────────────┴───────────────┘\n",
       "</pre>\n"
      ],
      "text/plain": [
       "┏━━━━━━━━━━━━━━━━━━━━━━━━━━━━━━━━━┳━━━━━━━━━━━━━━━━━━━━━━━━┳━━━━━━━━━━━━━━━┓\n",
       "┃\u001b[1m \u001b[0m\u001b[1mLayer (type)                   \u001b[0m\u001b[1m \u001b[0m┃\u001b[1m \u001b[0m\u001b[1mOutput Shape          \u001b[0m\u001b[1m \u001b[0m┃\u001b[1m \u001b[0m\u001b[1m      Param #\u001b[0m\u001b[1m \u001b[0m┃\n",
       "┡━━━━━━━━━━━━━━━━━━━━━━━━━━━━━━━━━╇━━━━━━━━━━━━━━━━━━━━━━━━╇━━━━━━━━━━━━━━━┩\n",
       "│ flatten (\u001b[38;5;33mFlatten\u001b[0m)               │ (\u001b[38;5;45mNone\u001b[0m, \u001b[38;5;34m784\u001b[0m)            │             \u001b[38;5;34m0\u001b[0m │\n",
       "├─────────────────────────────────┼────────────────────────┼───────────────┤\n",
       "│ dense (\u001b[38;5;33mDense\u001b[0m)                   │ (\u001b[38;5;45mNone\u001b[0m, \u001b[38;5;34m100\u001b[0m)            │        \u001b[38;5;34m78,500\u001b[0m │\n",
       "├─────────────────────────────────┼────────────────────────┼───────────────┤\n",
       "│ dense_1 (\u001b[38;5;33mDense\u001b[0m)                 │ (\u001b[38;5;45mNone\u001b[0m, \u001b[38;5;34m50\u001b[0m)             │         \u001b[38;5;34m5,050\u001b[0m │\n",
       "├─────────────────────────────────┼────────────────────────┼───────────────┤\n",
       "│ dense_2 (\u001b[38;5;33mDense\u001b[0m)                 │ (\u001b[38;5;45mNone\u001b[0m, \u001b[38;5;34m10\u001b[0m)             │           \u001b[38;5;34m510\u001b[0m │\n",
       "└─────────────────────────────────┴────────────────────────┴───────────────┘\n"
      ]
     },
     "metadata": {},
     "output_type": "display_data"
    },
    {
     "data": {
      "text/html": [
       "<pre style=\"white-space:pre;overflow-x:auto;line-height:normal;font-family:Menlo,'DejaVu Sans Mono',consolas,'Courier New',monospace\"><span style=\"font-weight: bold\"> Total params: </span><span style=\"color: #00af00; text-decoration-color: #00af00\">84,060</span> (328.36 KB)\n",
       "</pre>\n"
      ],
      "text/plain": [
       "\u001b[1m Total params: \u001b[0m\u001b[38;5;34m84,060\u001b[0m (328.36 KB)\n"
      ]
     },
     "metadata": {},
     "output_type": "display_data"
    },
    {
     "data": {
      "text/html": [
       "<pre style=\"white-space:pre;overflow-x:auto;line-height:normal;font-family:Menlo,'DejaVu Sans Mono',consolas,'Courier New',monospace\"><span style=\"font-weight: bold\"> Trainable params: </span><span style=\"color: #00af00; text-decoration-color: #00af00\">84,060</span> (328.36 KB)\n",
       "</pre>\n"
      ],
      "text/plain": [
       "\u001b[1m Trainable params: \u001b[0m\u001b[38;5;34m84,060\u001b[0m (328.36 KB)\n"
      ]
     },
     "metadata": {},
     "output_type": "display_data"
    },
    {
     "data": {
      "text/html": [
       "<pre style=\"white-space:pre;overflow-x:auto;line-height:normal;font-family:Menlo,'DejaVu Sans Mono',consolas,'Courier New',monospace\"><span style=\"font-weight: bold\"> Non-trainable params: </span><span style=\"color: #00af00; text-decoration-color: #00af00\">0</span> (0.00 B)\n",
       "</pre>\n"
      ],
      "text/plain": [
       "\u001b[1m Non-trainable params: \u001b[0m\u001b[38;5;34m0\u001b[0m (0.00 B)\n"
      ]
     },
     "metadata": {},
     "output_type": "display_data"
    }
   ],
   "source": [
    "# visualiser le reseau de neurone\n",
    "model.summary()"
   ]
  },
  {
   "cell_type": "code",
   "execution_count": 13,
   "id": "be02fb98",
   "metadata": {
    "execution": {
     "iopub.execute_input": "2024-08-11T11:33:50.592725Z",
     "iopub.status.busy": "2024-08-11T11:33:50.592212Z",
     "iopub.status.idle": "2024-08-11T11:33:50.613657Z",
     "shell.execute_reply": "2024-08-11T11:33:50.612174Z"
    },
    "papermill": {
     "duration": 0.038005,
     "end_time": "2024-08-11T11:33:50.616880",
     "exception": false,
     "start_time": "2024-08-11T11:33:50.578875",
     "status": "completed"
    },
    "tags": []
   },
   "outputs": [],
   "source": [
    "# compiler l'ensemble d'element\n",
    "# la foction de perte\n",
    "# la metric a optimiser\n",
    "\n",
    "model.compile(optimizer='adam',\n",
    "              loss='categorical_crossentropy',# foction de pertes\n",
    "             metrics=['accuracy']) # metric"
   ]
  },
  {
   "cell_type": "code",
   "execution_count": 14,
   "id": "b52b210e",
   "metadata": {
    "execution": {
     "iopub.execute_input": "2024-08-11T11:33:50.642343Z",
     "iopub.status.busy": "2024-08-11T11:33:50.641847Z",
     "iopub.status.idle": "2024-08-11T11:35:42.503147Z",
     "shell.execute_reply": "2024-08-11T11:35:42.501544Z"
    },
    "papermill": {
     "duration": 111.877794,
     "end_time": "2024-08-11T11:35:42.506550",
     "exception": false,
     "start_time": "2024-08-11T11:33:50.628756",
     "status": "completed"
    },
    "tags": []
   },
   "outputs": [
    {
     "name": "stdout",
     "output_type": "stream",
     "text": [
      "Epoch 1/20\n",
      "\u001b[1m1500/1500\u001b[0m \u001b[32m━━━━━━━━━━━━━━━━━━━━\u001b[0m\u001b[37m\u001b[0m \u001b[1m7s\u001b[0m 4ms/step - accuracy: 0.8549 - loss: 0.5024 - val_accuracy: 0.9567 - val_loss: 0.1517\n",
      "Epoch 2/20\n",
      "\u001b[1m1500/1500\u001b[0m \u001b[32m━━━━━━━━━━━━━━━━━━━━\u001b[0m\u001b[37m\u001b[0m \u001b[1m5s\u001b[0m 4ms/step - accuracy: 0.9625 - loss: 0.1271 - val_accuracy: 0.9651 - val_loss: 0.1166\n",
      "Epoch 3/20\n",
      "\u001b[1m1500/1500\u001b[0m \u001b[32m━━━━━━━━━━━━━━━━━━━━\u001b[0m\u001b[37m\u001b[0m \u001b[1m5s\u001b[0m 4ms/step - accuracy: 0.9741 - loss: 0.0854 - val_accuracy: 0.9651 - val_loss: 0.1117\n",
      "Epoch 4/20\n",
      "\u001b[1m1500/1500\u001b[0m \u001b[32m━━━━━━━━━━━━━━━━━━━━\u001b[0m\u001b[37m\u001b[0m \u001b[1m5s\u001b[0m 4ms/step - accuracy: 0.9808 - loss: 0.0628 - val_accuracy: 0.9638 - val_loss: 0.1173\n",
      "Epoch 5/20\n",
      "\u001b[1m1500/1500\u001b[0m \u001b[32m━━━━━━━━━━━━━━━━━━━━\u001b[0m\u001b[37m\u001b[0m \u001b[1m5s\u001b[0m 4ms/step - accuracy: 0.9854 - loss: 0.0491 - val_accuracy: 0.9728 - val_loss: 0.0913\n",
      "Epoch 6/20\n",
      "\u001b[1m1500/1500\u001b[0m \u001b[32m━━━━━━━━━━━━━━━━━━━━\u001b[0m\u001b[37m\u001b[0m \u001b[1m5s\u001b[0m 4ms/step - accuracy: 0.9871 - loss: 0.0389 - val_accuracy: 0.9738 - val_loss: 0.1005\n",
      "Epoch 7/20\n",
      "\u001b[1m1500/1500\u001b[0m \u001b[32m━━━━━━━━━━━━━━━━━━━━\u001b[0m\u001b[37m\u001b[0m \u001b[1m6s\u001b[0m 4ms/step - accuracy: 0.9890 - loss: 0.0339 - val_accuracy: 0.9738 - val_loss: 0.1054\n",
      "Epoch 8/20\n",
      "\u001b[1m1500/1500\u001b[0m \u001b[32m━━━━━━━━━━━━━━━━━━━━\u001b[0m\u001b[37m\u001b[0m \u001b[1m5s\u001b[0m 4ms/step - accuracy: 0.9908 - loss: 0.0266 - val_accuracy: 0.9715 - val_loss: 0.1096\n",
      "Epoch 9/20\n",
      "\u001b[1m1500/1500\u001b[0m \u001b[32m━━━━━━━━━━━━━━━━━━━━\u001b[0m\u001b[37m\u001b[0m \u001b[1m5s\u001b[0m 4ms/step - accuracy: 0.9931 - loss: 0.0208 - val_accuracy: 0.9748 - val_loss: 0.1096\n",
      "Epoch 10/20\n",
      "\u001b[1m1500/1500\u001b[0m \u001b[32m━━━━━━━━━━━━━━━━━━━━\u001b[0m\u001b[37m\u001b[0m \u001b[1m5s\u001b[0m 4ms/step - accuracy: 0.9934 - loss: 0.0195 - val_accuracy: 0.9753 - val_loss: 0.0976\n",
      "Epoch 11/20\n",
      "\u001b[1m1500/1500\u001b[0m \u001b[32m━━━━━━━━━━━━━━━━━━━━\u001b[0m\u001b[37m\u001b[0m \u001b[1m5s\u001b[0m 4ms/step - accuracy: 0.9941 - loss: 0.0162 - val_accuracy: 0.9734 - val_loss: 0.1207\n",
      "Epoch 12/20\n",
      "\u001b[1m1500/1500\u001b[0m \u001b[32m━━━━━━━━━━━━━━━━━━━━\u001b[0m\u001b[37m\u001b[0m \u001b[1m6s\u001b[0m 4ms/step - accuracy: 0.9939 - loss: 0.0172 - val_accuracy: 0.9731 - val_loss: 0.1205\n",
      "Epoch 13/20\n",
      "\u001b[1m1500/1500\u001b[0m \u001b[32m━━━━━━━━━━━━━━━━━━━━\u001b[0m\u001b[37m\u001b[0m \u001b[1m6s\u001b[0m 4ms/step - accuracy: 0.9967 - loss: 0.0097 - val_accuracy: 0.9737 - val_loss: 0.1222\n",
      "Epoch 14/20\n",
      "\u001b[1m1500/1500\u001b[0m \u001b[32m━━━━━━━━━━━━━━━━━━━━\u001b[0m\u001b[37m\u001b[0m \u001b[1m5s\u001b[0m 4ms/step - accuracy: 0.9954 - loss: 0.0141 - val_accuracy: 0.9753 - val_loss: 0.1184\n",
      "Epoch 15/20\n",
      "\u001b[1m1500/1500\u001b[0m \u001b[32m━━━━━━━━━━━━━━━━━━━━\u001b[0m\u001b[37m\u001b[0m \u001b[1m6s\u001b[0m 4ms/step - accuracy: 0.9960 - loss: 0.0115 - val_accuracy: 0.9747 - val_loss: 0.1346\n",
      "Epoch 16/20\n",
      "\u001b[1m1500/1500\u001b[0m \u001b[32m━━━━━━━━━━━━━━━━━━━━\u001b[0m\u001b[37m\u001b[0m \u001b[1m5s\u001b[0m 4ms/step - accuracy: 0.9961 - loss: 0.0113 - val_accuracy: 0.9757 - val_loss: 0.1262\n",
      "Epoch 17/20\n",
      "\u001b[1m1500/1500\u001b[0m \u001b[32m━━━━━━━━━━━━━━━━━━━━\u001b[0m\u001b[37m\u001b[0m \u001b[1m5s\u001b[0m 4ms/step - accuracy: 0.9971 - loss: 0.0090 - val_accuracy: 0.9743 - val_loss: 0.1362\n",
      "Epoch 18/20\n",
      "\u001b[1m1500/1500\u001b[0m \u001b[32m━━━━━━━━━━━━━━━━━━━━\u001b[0m\u001b[37m\u001b[0m \u001b[1m6s\u001b[0m 4ms/step - accuracy: 0.9972 - loss: 0.0084 - val_accuracy: 0.9738 - val_loss: 0.1441\n",
      "Epoch 19/20\n",
      "\u001b[1m1500/1500\u001b[0m \u001b[32m━━━━━━━━━━━━━━━━━━━━\u001b[0m\u001b[37m\u001b[0m \u001b[1m6s\u001b[0m 4ms/step - accuracy: 0.9965 - loss: 0.0104 - val_accuracy: 0.9741 - val_loss: 0.1588\n",
      "Epoch 20/20\n",
      "\u001b[1m1500/1500\u001b[0m \u001b[32m━━━━━━━━━━━━━━━━━━━━\u001b[0m\u001b[37m\u001b[0m \u001b[1m5s\u001b[0m 4ms/step - accuracy: 0.9955 - loss: 0.0123 - val_accuracy: 0.9742 - val_loss: 0.1511\n"
     ]
    }
   ],
   "source": [
    "history=model.fit(x_train,y_train,epochs=20,batch_size=32, validation_split=0.2)"
   ]
  },
  {
   "cell_type": "markdown",
   "id": "11c50a01",
   "metadata": {
    "papermill": {
     "duration": 0.192276,
     "end_time": "2024-08-11T11:35:42.967462",
     "exception": false,
     "start_time": "2024-08-11T11:35:42.775186",
     "status": "completed"
    },
    "tags": []
   },
   "source": [
    "# 4-Evaluation du model"
   ]
  },
  {
   "cell_type": "code",
   "execution_count": 15,
   "id": "08f8fe86",
   "metadata": {
    "execution": {
     "iopub.execute_input": "2024-08-11T11:35:43.355918Z",
     "iopub.status.busy": "2024-08-11T11:35:43.354853Z",
     "iopub.status.idle": "2024-08-11T11:35:44.230654Z",
     "shell.execute_reply": "2024-08-11T11:35:44.229111Z"
    },
    "papermill": {
     "duration": 1.072735,
     "end_time": "2024-08-11T11:35:44.233669",
     "exception": false,
     "start_time": "2024-08-11T11:35:43.160934",
     "status": "completed"
    },
    "tags": []
   },
   "outputs": [
    {
     "name": "stdout",
     "output_type": "stream",
     "text": [
      "313/313 - 1s - 2ms/step - accuracy: 0.9769 - loss: 0.1281\n",
      "\n",
      " Test accuracy:0.9768999814987183\n"
     ]
    }
   ],
   "source": [
    "# Evaluation du model sur x_test, y_test\n",
    "test_loss,test_acc=model.evaluate(x_test,y_test,verbose=2)\n",
    "print(f'\\n Test accuracy:{test_acc}')"
   ]
  },
  {
   "cell_type": "code",
   "execution_count": 16,
   "id": "6c02b6c4",
   "metadata": {
    "execution": {
     "iopub.execute_input": "2024-08-11T11:35:44.620218Z",
     "iopub.status.busy": "2024-08-11T11:35:44.619764Z",
     "iopub.status.idle": "2024-08-11T11:35:44.946993Z",
     "shell.execute_reply": "2024-08-11T11:35:44.945595Z"
    },
    "papermill": {
     "duration": 0.525317,
     "end_time": "2024-08-11T11:35:44.950144",
     "exception": false,
     "start_time": "2024-08-11T11:35:44.424827",
     "status": "completed"
    },
    "tags": []
   },
   "outputs": [
    {
     "data": {
      "image/png": "[encoded data removed]",
      "text/plain": [
       "<Figure size 640x480 with 1 Axes>"
      ]
     },
     "metadata": {},
     "output_type": "display_data"
    }
   ],
   "source": [
    "# Visualiser les performances de l'entrainement\n",
    "plt.plot(history.history['accuracy'],label='Train accuracy')\n",
    "plt.plot(history.history['val_accuracy'],label='Validation accuracy')\n",
    "plt.xlabel('Epoch')\n",
    "plt.ylabel('Accuracy')\n",
    "plt.legend()\n",
    "plt.show()\n",
    "\n",
    "# cette visualisation est utile pour redefinir \n",
    "#le nombre d'epochs pour un bon entrainement"
   ]
  },
  {
   "cell_type": "code",
   "execution_count": 17,
   "id": "2503e225",
   "metadata": {
    "execution": {
     "iopub.execute_input": "2024-08-11T11:35:45.362521Z",
     "iopub.status.busy": "2024-08-11T11:35:45.361515Z",
     "iopub.status.idle": "2024-08-11T11:35:45.658920Z",
     "shell.execute_reply": "2024-08-11T11:35:45.657474Z"
    },
    "papermill": {
     "duration": 0.505214,
     "end_time": "2024-08-11T11:35:45.661721",
     "exception": false,
     "start_time": "2024-08-11T11:35:45.156507",
     "status": "completed"
    },
    "tags": []
   },
   "outputs": [
    {
     "data": {
      "image/png": "[encoded data removed]",
      "text/plain": [
       "<Figure size 640x480 with 1 Axes>"
      ]
     },
     "metadata": {},
     "output_type": "display_data"
    }
   ],
   "source": [
    " # Visualiser les pertes de l'entrainement\n",
    "plt.plot(history.history['loss'],label='Train loss')\n",
    "plt.plot(history.history['val_loss'],label='Validation loss')\n",
    "plt.xlabel('Epoch')\n",
    "plt.ylabel('Loss')\n",
    "plt.legend()\n",
    "plt.show()\n",
    " # cette visualisation est utile pour redefinir \n",
    "#le nombre d'epochs pour un bon entrainement\n"
   ]
  },
  {
   "cell_type": "markdown",
   "id": "32801813",
   "metadata": {
    "papermill": {
     "duration": 0.197245,
     "end_time": "2024-08-11T11:35:46.052216",
     "exception": false,
     "start_time": "2024-08-11T11:35:45.854971",
     "status": "completed"
    },
    "tags": []
   },
   "source": [
    "# 5- Faire des predictions"
   ]
  },
  {
   "cell_type": "code",
   "execution_count": 18,
   "id": "cba1e3af",
   "metadata": {
    "execution": {
     "iopub.execute_input": "2024-08-11T11:35:46.448369Z",
     "iopub.status.busy": "2024-08-11T11:35:46.447770Z",
     "iopub.status.idle": "2024-08-11T11:35:46.593198Z",
     "shell.execute_reply": "2024-08-11T11:35:46.591788Z"
    },
    "papermill": {
     "duration": 0.347159,
     "end_time": "2024-08-11T11:35:46.596028",
     "exception": false,
     "start_time": "2024-08-11T11:35:46.248869",
     "status": "completed"
    },
    "tags": []
   },
   "outputs": [
    {
     "name": "stdout",
     "output_type": "stream",
     "text": [
      "\u001b[1m1/1\u001b[0m \u001b[32m━━━━━━━━━━━━━━━━━━━━\u001b[0m\u001b[37m\u001b[0m \u001b[1m0s\u001b[0m 72ms/step\n"
     ]
    }
   ],
   "source": [
    "predictions=model.predict(x_test[:10])"
   ]
  },
  {
   "cell_type": "code",
   "execution_count": 19,
   "id": "20c8598c",
   "metadata": {
    "execution": {
     "iopub.execute_input": "2024-08-11T11:35:47.010161Z",
     "iopub.status.busy": "2024-08-11T11:35:47.009094Z",
     "iopub.status.idle": "2024-08-11T11:35:47.019827Z",
     "shell.execute_reply": "2024-08-11T11:35:47.018347Z"
    },
    "papermill": {
     "duration": 0.210541,
     "end_time": "2024-08-11T11:35:47.022502",
     "exception": false,
     "start_time": "2024-08-11T11:35:46.811961",
     "status": "completed"
    },
    "tags": []
   },
   "outputs": [
    {
     "data": {
      "text/plain": [
       "array([[5.27858227e-16, 4.24316115e-15, 3.73567621e-10, 8.44938253e-09,\n",
       "        2.58252088e-20, 4.16889203e-15, 2.85271415e-23, 9.99999940e-01,\n",
       "        7.91029162e-15, 4.84093343e-09],\n",
       "       [5.30797405e-19, 7.00492309e-15, 9.99999940e-01, 4.15355819e-15,\n",
       "        1.11612088e-23, 1.88885663e-21, 1.41647794e-18, 1.34977833e-18,\n",
       "        2.09480165e-17, 2.25837924e-23],\n",
       "       [1.70781385e-13, 9.99995887e-01, 3.79009720e-07, 8.40300865e-14,\n",
       "        2.20975471e-06, 2.11598924e-12, 7.51920921e-12, 1.42647718e-06,\n",
       "        4.23384439e-09, 2.52472626e-10],\n",
       "       [9.99999940e-01, 1.62121079e-15, 4.31626645e-15, 3.19612585e-19,\n",
       "        4.70902614e-21, 3.34001334e-22, 1.47419799e-09, 6.55083317e-16,\n",
       "        8.11882214e-22, 1.56621990e-16],\n",
       "       [2.88604944e-19, 3.94226183e-13, 8.83765970e-18, 7.19630472e-23,\n",
       "        9.99999940e-01, 9.36962666e-21, 2.42820420e-18, 2.34193006e-14,\n",
       "        1.05716364e-19, 4.47385129e-10],\n",
       "       [9.20583253e-16, 9.99993026e-01, 1.31350764e-09, 3.14662067e-14,\n",
       "        6.89844683e-07, 4.18160314e-16, 5.16569594e-17, 6.20566061e-06,\n",
       "        8.57893617e-11, 5.02865805e-11],\n",
       "       [5.93146211e-24, 8.22836858e-15, 1.43846523e-15, 1.40213742e-18,\n",
       "        9.99994218e-01, 1.71572527e-13, 1.27323958e-21, 8.97542665e-11,\n",
       "        1.37827402e-10, 5.74598607e-06],\n",
       "       [4.55165406e-20, 1.04536582e-07, 2.22498006e-10, 1.36521674e-08,\n",
       "        1.84745704e-06, 3.22493869e-14, 2.73247723e-23, 8.58347260e-09,\n",
       "        2.18066735e-14, 9.99997914e-01],\n",
       "       [3.72300392e-22, 2.27855122e-17, 3.65853994e-13, 2.29946433e-13,\n",
       "        1.70777104e-09, 9.64608967e-01, 3.53869423e-02, 7.61962515e-14,\n",
       "        4.13562566e-06, 4.20797112e-11],\n",
       "       [5.50406595e-24, 3.63606765e-15, 3.52977031e-21, 7.08176983e-17,\n",
       "        6.07436596e-06, 4.92999632e-23, 1.51985075e-28, 2.07908268e-09,\n",
       "        9.28337111e-20, 9.99993920e-01]], dtype=float32)"
      ]
     },
     "execution_count": 19,
     "metadata": {},
     "output_type": "execute_result"
    }
   ],
   "source": [
    "# Afficher le resultat des predictions\n",
    "predictions"
   ]
  },
  {
   "cell_type": "code",
   "execution_count": 20,
   "id": "4839e3fa",
   "metadata": {
    "execution": {
     "iopub.execute_input": "2024-08-11T11:35:47.417252Z",
     "iopub.status.busy": "2024-08-11T11:35:47.416786Z",
     "iopub.status.idle": "2024-08-11T11:35:48.111319Z",
     "shell.execute_reply": "2024-08-11T11:35:48.110108Z"
    },
    "papermill": {
     "duration": 0.895839,
     "end_time": "2024-08-11T11:35:48.114304",
     "exception": false,
     "start_time": "2024-08-11T11:35:47.218465",
     "status": "completed"
    },
    "tags": []
   },
   "outputs": [
    {
     "data": {
      "image/png": "[encoded data removed]",
      "text/plain": [
       "<Figure size 1000x100 with 10 Axes>"
      ]
     },
     "metadata": {},
     "output_type": "display_data"
    }
   ],
   "source": [
    "plt.figure(figsize=(10,1))\n",
    "for i in range(10):\n",
    "    plt.subplot(1,10,i+1)\n",
    "    plt.imshow(x_test[i],cmap='gray')\n",
    "    plt.title(np.argmax(predictions[i]))\n",
    "    plt.axis('off')\n",
    "plt.show()"
   ]
  },
  {
   "cell_type": "code",
   "execution_count": null,
   "id": "1ca9dff6",
   "metadata": {
    "papermill": {
     "duration": 0.204729,
     "end_time": "2024-08-11T11:35:48.529575",
     "exception": false,
     "start_time": "2024-08-11T11:35:48.324846",
     "status": "completed"
    },
    "tags": []
   },
   "outputs": [],
   "source": [
    " "
   ]
  }
 ],
 "metadata": {
  "kaggle": {
   "accelerator": "none",
   "dataSources": [],
   "dockerImageVersionId": 30746,
   "isGpuEnabled": false,
   "isInternetEnabled": true,
   "language": "python",
   "sourceType": "notebook"
  },
  "kernelspec": {
   "display_name": "Python 3",
   "language": "python",
   "name": "python3"
  },
  "language_info": {
   "codemirror_mode": {
    "name": "ipython",
    "version": 3
   },
   "file_extension": ".py",
   "mimetype": "text/x-python",
   "name": "python",
   "nbconvert_exporter": "python",
   "pygments_lexer": "ipython3",
   "version": "3.10.13"
  },
  "papermill": {
   "default_parameters": {},
   "duration": 143.356987,
   "end_time": "2024-08-11T11:35:51.555644",
   "environment_variables": {},
   "exception": null,
   "input_path": "__notebook__.ipynb",
   "output_path": "__notebook__.ipynb",
   "parameters": {},
   "start_time": "2024-08-11T11:33:28.198657",
   "version": "2.5.0"
  }
 },
 "nbformat": 4,
 "nbformat_minor": 5
}
